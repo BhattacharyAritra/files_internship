{
 "cells": [
  {
   "cell_type": "code",
   "execution_count": 89,
   "metadata": {},
   "outputs": [],
   "source": [
    "import pandas as pd"
   ]
  },
  {
   "cell_type": "code",
   "execution_count": 90,
   "metadata": {},
   "outputs": [],
   "source": [
    "mch = pd.read_csv(\"E:\\\\2020 WPL WIDHYA\\\\Day 4\\\\matches.csv\")\n",
    "dlv = pd.read_csv(\"E:\\\\2020 WPL WIDHYA\\\\Day 4\\\\deliveries.csv\")"
   ]
  },
  {
   "cell_type": "code",
   "execution_count": 91,
   "metadata": {},
   "outputs": [],
   "source": [
    "mch = mch.replace(['Delhi Daredevils'], 'Delhi Capitals')"
   ]
  },
  {
   "cell_type": "code",
   "execution_count": 92,
   "metadata": {
    "scrolled": true
   },
   "outputs": [
    {
     "data": {
      "text/html": [
       "<div>\n",
       "<style scoped>\n",
       "    .dataframe tbody tr th:only-of-type {\n",
       "        vertical-align: middle;\n",
       "    }\n",
       "\n",
       "    .dataframe tbody tr th {\n",
       "        vertical-align: top;\n",
       "    }\n",
       "\n",
       "    .dataframe thead th {\n",
       "        text-align: right;\n",
       "    }\n",
       "</style>\n",
       "<table border=\"1\" class=\"dataframe\">\n",
       "  <thead>\n",
       "    <tr style=\"text-align: right;\">\n",
       "      <th></th>\n",
       "      <th>id</th>\n",
       "      <th>season</th>\n",
       "      <th>city</th>\n",
       "      <th>date</th>\n",
       "      <th>team1</th>\n",
       "      <th>team2</th>\n",
       "      <th>toss_winner</th>\n",
       "      <th>toss_decision</th>\n",
       "      <th>result</th>\n",
       "      <th>dl_applied</th>\n",
       "      <th>winner</th>\n",
       "      <th>win_by_runs</th>\n",
       "      <th>win_by_wickets</th>\n",
       "      <th>player_of_match</th>\n",
       "      <th>venue</th>\n",
       "      <th>umpire1</th>\n",
       "      <th>umpire2</th>\n",
       "      <th>umpire3</th>\n",
       "    </tr>\n",
       "  </thead>\n",
       "  <tbody>\n",
       "    <tr>\n",
       "      <th>8</th>\n",
       "      <td>9</td>\n",
       "      <td>2017</td>\n",
       "      <td>Pune</td>\n",
       "      <td>2017-04-11</td>\n",
       "      <td>Delhi Capitals</td>\n",
       "      <td>Rising Pune Supergiant</td>\n",
       "      <td>Rising Pune Supergiant</td>\n",
       "      <td>field</td>\n",
       "      <td>normal</td>\n",
       "      <td>0</td>\n",
       "      <td>Delhi Capitals</td>\n",
       "      <td>97</td>\n",
       "      <td>0</td>\n",
       "      <td>SV Samson</td>\n",
       "      <td>Maharashtra Cricket Association Stadium</td>\n",
       "      <td>AY Dandekar</td>\n",
       "      <td>S Ravi</td>\n",
       "      <td>NaN</td>\n",
       "    </tr>\n",
       "    <tr>\n",
       "      <th>14</th>\n",
       "      <td>15</td>\n",
       "      <td>2017</td>\n",
       "      <td>Delhi</td>\n",
       "      <td>2017-04-15</td>\n",
       "      <td>Delhi Capitals</td>\n",
       "      <td>Kings XI Punjab</td>\n",
       "      <td>Delhi Capitals</td>\n",
       "      <td>bat</td>\n",
       "      <td>normal</td>\n",
       "      <td>0</td>\n",
       "      <td>Delhi Capitals</td>\n",
       "      <td>51</td>\n",
       "      <td>0</td>\n",
       "      <td>CJ Anderson</td>\n",
       "      <td>Feroz Shah Kotla</td>\n",
       "      <td>YC Barde</td>\n",
       "      <td>Nitin Menon</td>\n",
       "      <td>NaN</td>\n",
       "    </tr>\n",
       "    <tr>\n",
       "      <th>38</th>\n",
       "      <td>39</td>\n",
       "      <td>2017</td>\n",
       "      <td>Delhi</td>\n",
       "      <td>2017-05-02</td>\n",
       "      <td>Sunrisers Hyderabad</td>\n",
       "      <td>Delhi Capitals</td>\n",
       "      <td>Delhi Capitals</td>\n",
       "      <td>field</td>\n",
       "      <td>normal</td>\n",
       "      <td>0</td>\n",
       "      <td>Delhi Capitals</td>\n",
       "      <td>0</td>\n",
       "      <td>6</td>\n",
       "      <td>Mohammed Shami</td>\n",
       "      <td>Feroz Shah Kotla</td>\n",
       "      <td>YC Barde</td>\n",
       "      <td>Nitin Menon</td>\n",
       "      <td>NaN</td>\n",
       "    </tr>\n",
       "    <tr>\n",
       "      <th>40</th>\n",
       "      <td>41</td>\n",
       "      <td>2017</td>\n",
       "      <td>Delhi</td>\n",
       "      <td>2017-05-04</td>\n",
       "      <td>Gujarat Lions</td>\n",
       "      <td>Delhi Capitals</td>\n",
       "      <td>Delhi Capitals</td>\n",
       "      <td>field</td>\n",
       "      <td>normal</td>\n",
       "      <td>0</td>\n",
       "      <td>Delhi Capitals</td>\n",
       "      <td>0</td>\n",
       "      <td>7</td>\n",
       "      <td>RR Pant</td>\n",
       "      <td>Feroz Shah Kotla</td>\n",
       "      <td>M Erasmus</td>\n",
       "      <td>Nitin Menon</td>\n",
       "      <td>NaN</td>\n",
       "    </tr>\n",
       "    <tr>\n",
       "      <th>48</th>\n",
       "      <td>49</td>\n",
       "      <td>2017</td>\n",
       "      <td>Kanpur</td>\n",
       "      <td>2017-05-10</td>\n",
       "      <td>Gujarat Lions</td>\n",
       "      <td>Delhi Capitals</td>\n",
       "      <td>Delhi Capitals</td>\n",
       "      <td>field</td>\n",
       "      <td>normal</td>\n",
       "      <td>0</td>\n",
       "      <td>Delhi Capitals</td>\n",
       "      <td>0</td>\n",
       "      <td>2</td>\n",
       "      <td>SS Iyer</td>\n",
       "      <td>Green Park</td>\n",
       "      <td>YC Barde</td>\n",
       "      <td>AK Chaudhary</td>\n",
       "      <td>NaN</td>\n",
       "    </tr>\n",
       "    <tr>\n",
       "      <th>...</th>\n",
       "      <td>...</td>\n",
       "      <td>...</td>\n",
       "      <td>...</td>\n",
       "      <td>...</td>\n",
       "      <td>...</td>\n",
       "      <td>...</td>\n",
       "      <td>...</td>\n",
       "      <td>...</td>\n",
       "      <td>...</td>\n",
       "      <td>...</td>\n",
       "      <td>...</td>\n",
       "      <td>...</td>\n",
       "      <td>...</td>\n",
       "      <td>...</td>\n",
       "      <td>...</td>\n",
       "      <td>...</td>\n",
       "      <td>...</td>\n",
       "      <td>...</td>\n",
       "    </tr>\n",
       "    <tr>\n",
       "      <th>738</th>\n",
       "      <td>11334</td>\n",
       "      <td>2019</td>\n",
       "      <td>Kolkata</td>\n",
       "      <td>25/04/19</td>\n",
       "      <td>Kolkata Knight Riders</td>\n",
       "      <td>Rajasthan Royals</td>\n",
       "      <td>Rajasthan Royals</td>\n",
       "      <td>field</td>\n",
       "      <td>normal</td>\n",
       "      <td>0</td>\n",
       "      <td>Rajasthan Royals</td>\n",
       "      <td>0</td>\n",
       "      <td>3</td>\n",
       "      <td>VR Aaron</td>\n",
       "      <td>Eden Gardens</td>\n",
       "      <td>Ian Gould</td>\n",
       "      <td>Anil Dandekar</td>\n",
       "      <td>Nitin Menon</td>\n",
       "    </tr>\n",
       "    <tr>\n",
       "      <th>740</th>\n",
       "      <td>11336</td>\n",
       "      <td>2019</td>\n",
       "      <td>Jaipur</td>\n",
       "      <td>27/04/19</td>\n",
       "      <td>Sunrisers Hyderabad</td>\n",
       "      <td>Rajasthan Royals</td>\n",
       "      <td>Rajasthan Royals</td>\n",
       "      <td>field</td>\n",
       "      <td>normal</td>\n",
       "      <td>0</td>\n",
       "      <td>Rajasthan Royals</td>\n",
       "      <td>0</td>\n",
       "      <td>7</td>\n",
       "      <td>JD Unadkat</td>\n",
       "      <td>Sawai Mansingh Stadium</td>\n",
       "      <td>Yeshwant Barde</td>\n",
       "      <td>Nand Kishore</td>\n",
       "      <td>Sundaram Ravi</td>\n",
       "    </tr>\n",
       "    <tr>\n",
       "      <th>741</th>\n",
       "      <td>11337</td>\n",
       "      <td>2019</td>\n",
       "      <td>Delhi</td>\n",
       "      <td>28/04/19</td>\n",
       "      <td>Delhi Capitals</td>\n",
       "      <td>Royal Challengers Bangalore</td>\n",
       "      <td>Delhi Capitals</td>\n",
       "      <td>bat</td>\n",
       "      <td>normal</td>\n",
       "      <td>0</td>\n",
       "      <td>Delhi Capitals</td>\n",
       "      <td>16</td>\n",
       "      <td>0</td>\n",
       "      <td>S Dhawan</td>\n",
       "      <td>Feroz Shah Kotla Ground</td>\n",
       "      <td>Bruce Oxenford</td>\n",
       "      <td>KN Ananthapadmanabhan</td>\n",
       "      <td>C Shamshuddin</td>\n",
       "    </tr>\n",
       "    <tr>\n",
       "      <th>748</th>\n",
       "      <td>11344</td>\n",
       "      <td>2019</td>\n",
       "      <td>Delhi</td>\n",
       "      <td>04/05/19</td>\n",
       "      <td>Rajasthan Royals</td>\n",
       "      <td>Delhi Capitals</td>\n",
       "      <td>Rajasthan Royals</td>\n",
       "      <td>bat</td>\n",
       "      <td>normal</td>\n",
       "      <td>0</td>\n",
       "      <td>Delhi Capitals</td>\n",
       "      <td>0</td>\n",
       "      <td>5</td>\n",
       "      <td>A Mishra</td>\n",
       "      <td>Feroz Shah Kotla Ground</td>\n",
       "      <td>Ian Gould</td>\n",
       "      <td>Anil Dandekar</td>\n",
       "      <td>Nitin Menon</td>\n",
       "    </tr>\n",
       "    <tr>\n",
       "      <th>753</th>\n",
       "      <td>11413</td>\n",
       "      <td>2019</td>\n",
       "      <td>Visakhapatnam</td>\n",
       "      <td>08/05/19</td>\n",
       "      <td>Sunrisers Hyderabad</td>\n",
       "      <td>Delhi Capitals</td>\n",
       "      <td>Delhi Capitals</td>\n",
       "      <td>field</td>\n",
       "      <td>normal</td>\n",
       "      <td>0</td>\n",
       "      <td>Delhi Capitals</td>\n",
       "      <td>0</td>\n",
       "      <td>2</td>\n",
       "      <td>RR Pant</td>\n",
       "      <td>ACA-VDCA Stadium</td>\n",
       "      <td>NaN</td>\n",
       "      <td>NaN</td>\n",
       "      <td>NaN</td>\n",
       "    </tr>\n",
       "  </tbody>\n",
       "</table>\n",
       "<p>152 rows × 18 columns</p>\n",
       "</div>"
      ],
      "text/plain": [
       "        id  season           city        date                  team1  \\\n",
       "8        9    2017           Pune  2017-04-11         Delhi Capitals   \n",
       "14      15    2017          Delhi  2017-04-15         Delhi Capitals   \n",
       "38      39    2017          Delhi  2017-05-02    Sunrisers Hyderabad   \n",
       "40      41    2017          Delhi  2017-05-04          Gujarat Lions   \n",
       "48      49    2017         Kanpur  2017-05-10          Gujarat Lions   \n",
       "..     ...     ...            ...         ...                    ...   \n",
       "738  11334    2019        Kolkata    25/04/19  Kolkata Knight Riders   \n",
       "740  11336    2019         Jaipur    27/04/19    Sunrisers Hyderabad   \n",
       "741  11337    2019          Delhi    28/04/19         Delhi Capitals   \n",
       "748  11344    2019          Delhi    04/05/19       Rajasthan Royals   \n",
       "753  11413    2019  Visakhapatnam    08/05/19    Sunrisers Hyderabad   \n",
       "\n",
       "                           team2             toss_winner toss_decision  \\\n",
       "8         Rising Pune Supergiant  Rising Pune Supergiant         field   \n",
       "14               Kings XI Punjab          Delhi Capitals           bat   \n",
       "38                Delhi Capitals          Delhi Capitals         field   \n",
       "40                Delhi Capitals          Delhi Capitals         field   \n",
       "48                Delhi Capitals          Delhi Capitals         field   \n",
       "..                           ...                     ...           ...   \n",
       "738             Rajasthan Royals        Rajasthan Royals         field   \n",
       "740             Rajasthan Royals        Rajasthan Royals         field   \n",
       "741  Royal Challengers Bangalore          Delhi Capitals           bat   \n",
       "748               Delhi Capitals        Rajasthan Royals           bat   \n",
       "753               Delhi Capitals          Delhi Capitals         field   \n",
       "\n",
       "     result  dl_applied            winner  win_by_runs  win_by_wickets  \\\n",
       "8    normal           0    Delhi Capitals           97               0   \n",
       "14   normal           0    Delhi Capitals           51               0   \n",
       "38   normal           0    Delhi Capitals            0               6   \n",
       "40   normal           0    Delhi Capitals            0               7   \n",
       "48   normal           0    Delhi Capitals            0               2   \n",
       "..      ...         ...               ...          ...             ...   \n",
       "738  normal           0  Rajasthan Royals            0               3   \n",
       "740  normal           0  Rajasthan Royals            0               7   \n",
       "741  normal           0    Delhi Capitals           16               0   \n",
       "748  normal           0    Delhi Capitals            0               5   \n",
       "753  normal           0    Delhi Capitals            0               2   \n",
       "\n",
       "    player_of_match                                    venue         umpire1  \\\n",
       "8         SV Samson  Maharashtra Cricket Association Stadium     AY Dandekar   \n",
       "14      CJ Anderson                         Feroz Shah Kotla        YC Barde   \n",
       "38   Mohammed Shami                         Feroz Shah Kotla        YC Barde   \n",
       "40          RR Pant                         Feroz Shah Kotla       M Erasmus   \n",
       "48          SS Iyer                               Green Park        YC Barde   \n",
       "..              ...                                      ...             ...   \n",
       "738        VR Aaron                             Eden Gardens       Ian Gould   \n",
       "740      JD Unadkat                   Sawai Mansingh Stadium  Yeshwant Barde   \n",
       "741        S Dhawan                  Feroz Shah Kotla Ground  Bruce Oxenford   \n",
       "748        A Mishra                  Feroz Shah Kotla Ground       Ian Gould   \n",
       "753         RR Pant                         ACA-VDCA Stadium             NaN   \n",
       "\n",
       "                   umpire2        umpire3  \n",
       "8                   S Ravi            NaN  \n",
       "14             Nitin Menon            NaN  \n",
       "38             Nitin Menon            NaN  \n",
       "40             Nitin Menon            NaN  \n",
       "48            AK Chaudhary            NaN  \n",
       "..                     ...            ...  \n",
       "738          Anil Dandekar    Nitin Menon  \n",
       "740           Nand Kishore  Sundaram Ravi  \n",
       "741  KN Ananthapadmanabhan  C Shamshuddin  \n",
       "748          Anil Dandekar    Nitin Menon  \n",
       "753                    NaN            NaN  \n",
       "\n",
       "[152 rows x 18 columns]"
      ]
     },
     "execution_count": 92,
     "metadata": {},
     "output_type": "execute_result"
    }
   ],
   "source": [
    "#Filtering by matches\n",
    "flt_mch = mch[(mch.winner == 'Delhi Capitals') | (mch.winner == 'Rajasthan Royals')]\n",
    "flt_mch"
   ]
  },
  {
   "cell_type": "code",
   "execution_count": 93,
   "metadata": {},
   "outputs": [
    {
     "data": {
      "text/plain": [
       "(152, 18)"
      ]
     },
     "execution_count": 93,
     "metadata": {},
     "output_type": "execute_result"
    }
   ],
   "source": [
    "flt_mch.shape"
   ]
  },
  {
   "cell_type": "code",
   "execution_count": 94,
   "metadata": {},
   "outputs": [
    {
     "data": {
      "text/plain": [
       "(756, 18)"
      ]
     },
     "execution_count": 94,
     "metadata": {},
     "output_type": "execute_result"
    }
   ],
   "source": [
    "mch.shape"
   ]
  },
  {
   "cell_type": "code",
   "execution_count": 95,
   "metadata": {},
   "outputs": [
    {
     "name": "stdout",
     "output_type": "stream",
     "text": [
      "<class 'pandas.core.frame.DataFrame'>\n",
      "Int64Index: 152 entries, 8 to 753\n",
      "Data columns (total 18 columns):\n",
      " #   Column           Non-Null Count  Dtype \n",
      "---  ------           --------------  ----- \n",
      " 0   id               152 non-null    int64 \n",
      " 1   season           152 non-null    int64 \n",
      " 2   city             151 non-null    object\n",
      " 3   date             152 non-null    object\n",
      " 4   team1            152 non-null    object\n",
      " 5   team2            152 non-null    object\n",
      " 6   toss_winner      152 non-null    object\n",
      " 7   toss_decision    152 non-null    object\n",
      " 8   result           152 non-null    object\n",
      " 9   dl_applied       152 non-null    int64 \n",
      " 10  winner           152 non-null    object\n",
      " 11  win_by_runs      152 non-null    int64 \n",
      " 12  win_by_wickets   152 non-null    int64 \n",
      " 13  player_of_match  152 non-null    object\n",
      " 14  venue            152 non-null    object\n",
      " 15  umpire1          151 non-null    object\n",
      " 16  umpire2          151 non-null    object\n",
      " 17  umpire3          26 non-null     object\n",
      "dtypes: int64(5), object(13)\n",
      "memory usage: 22.6+ KB\n"
     ]
    }
   ],
   "source": [
    "flt_mch.info()"
   ]
  },
  {
   "cell_type": "code",
   "execution_count": 96,
   "metadata": {},
   "outputs": [
    {
     "data": {
      "text/plain": [
       "array(['Delhi Capitals', 'Rajasthan Royals'], dtype=object)"
      ]
     },
     "execution_count": 96,
     "metadata": {},
     "output_type": "execute_result"
    }
   ],
   "source": [
    "flt_mch.winner.unique()"
   ]
  },
  {
   "cell_type": "code",
   "execution_count": 97,
   "metadata": {},
   "outputs": [
    {
     "data": {
      "text/plain": [
       "array(['Delhi Capitals', 'Sunrisers Hyderabad', 'Gujarat Lions',\n",
       "       'Rajasthan Royals', 'Kings XI Punjab', 'Deccan Chargers',\n",
       "       'Royal Challengers Bangalore', 'Chennai Super Kings',\n",
       "       'Kolkata Knight Riders', 'Mumbai Indians', 'Pune Warriors',\n",
       "       'Kochi Tuskers Kerala'], dtype=object)"
      ]
     },
     "execution_count": 97,
     "metadata": {},
     "output_type": "execute_result"
    }
   ],
   "source": [
    "flt_mch.team1.unique()"
   ]
  },
  {
   "cell_type": "code",
   "execution_count": 98,
   "metadata": {},
   "outputs": [
    {
     "data": {
      "text/plain": [
       "array([2017, 2008, 2009, 2010, 2011, 2012, 2013, 2014, 2015, 2016, 2018,\n",
       "       2019], dtype=int64)"
      ]
     },
     "execution_count": 98,
     "metadata": {},
     "output_type": "execute_result"
    }
   ],
   "source": [
    "flt_mch.season.unique()"
   ]
  },
  {
   "cell_type": "code",
   "execution_count": 99,
   "metadata": {},
   "outputs": [
    {
     "data": {
      "text/plain": [
       "array([75, 12], dtype=int64)"
      ]
     },
     "execution_count": 99,
     "metadata": {},
     "output_type": "execute_result"
    }
   ],
   "source": [
    "flt_mch[flt_mch.winner == 'Rajasthan Royals'].count().unique()"
   ]
  },
  {
   "cell_type": "code",
   "execution_count": 100,
   "metadata": {},
   "outputs": [
    {
     "data": {
      "text/plain": [
       "array([77, 76, 14], dtype=int64)"
      ]
     },
     "execution_count": 100,
     "metadata": {},
     "output_type": "execute_result"
    }
   ],
   "source": [
    "flt_mch[flt_mch.winner == 'Delhi Capitals'].count().unique()"
   ]
  },
  {
   "cell_type": "code",
   "execution_count": 101,
   "metadata": {},
   "outputs": [],
   "source": [
    "import numpy as np"
   ]
  },
  {
   "cell_type": "code",
   "execution_count": 102,
   "metadata": {},
   "outputs": [
    {
     "data": {
      "text/plain": [
       "1.0"
      ]
     },
     "execution_count": 102,
     "metadata": {},
     "output_type": "execute_result"
    }
   ],
   "source": [
    "np.percentile(flt_mch.winner == 'Rajasthan Royals', 100, 0)"
   ]
  },
  {
   "cell_type": "code",
   "execution_count": 103,
   "metadata": {},
   "outputs": [
    {
     "data": {
      "text/plain": [
       "1.0"
      ]
     },
     "execution_count": 103,
     "metadata": {},
     "output_type": "execute_result"
    }
   ],
   "source": [
    "np.percentile(flt_mch.winner == 'Delhi Capitals', 100, 0)"
   ]
  },
  {
   "cell_type": "code",
   "execution_count": 104,
   "metadata": {},
   "outputs": [],
   "source": [
    "import matplotlib.pyplot as plt\n",
    "%matplotlib inline\n",
    "plt.rcParams['figure.figsize'] = 18,12"
   ]
  },
  {
   "cell_type": "code",
   "execution_count": 105,
   "metadata": {
    "scrolled": true
   },
   "outputs": [
    {
     "data": {
      "image/png": "[encoded data removed]",
      "text/plain": [
       "<Figure size 1296x864 with 1 Axes>"
      ]
     },
     "metadata": {
      "needs_background": "light"
     },
     "output_type": "display_data"
    }
   ],
   "source": [
    "x = flt_mch[flt_mch.winner == 'Rajasthan Royals'].toss_winner\n",
    "plot1 = plt.hist(x, 25)"
   ]
  },
  {
   "cell_type": "code",
   "execution_count": 106,
   "metadata": {
    "scrolled": true
   },
   "outputs": [
    {
     "data": {
      "image/png": "[encoded data removed]",
      "text/plain": [
       "<Figure size 1296x864 with 1 Axes>"
      ]
     },
     "metadata": {
      "needs_background": "light"
     },
     "output_type": "display_data"
    }
   ],
   "source": [
    "x1 = flt_mch[flt_mch.winner == 'Delhi Capitals'].toss_winner\n",
    "plot2 = plt.hist(x1, 25)"
   ]
  },
  {
   "cell_type": "code",
   "execution_count": 113,
   "metadata": {},
   "outputs": [
    {
     "name": "stdout",
     "output_type": "stream",
     "text": [
      "Delhi won by toss win:  77\n",
      "Rajasthan won by toss win:  75\n"
     ]
    }
   ],
   "source": [
    "dc_tosswin = flt_mch[flt_mch.winner == 'Delhi Capitals'].toss_winner.count() #77\n",
    "rr_tosswin = flt_mch[flt_mch.winner == 'Rajasthan Royals'].toss_winner.count() #75\n",
    "print(\"Delhi won by toss win: \",dc_tosswin)\n",
    "print(\"Rajasthan won by toss win: \",rr_tosswin)"
   ]
  },
  {
   "cell_type": "code",
   "execution_count": 114,
   "metadata": {},
   "outputs": [
    {
     "name": "stdout",
     "output_type": "stream",
     "text": [
      "Delhi won by toss decision:  75\n",
      "Rajasthan won by toss decision:  75\n"
     ]
    }
   ],
   "source": [
    "dc_tossdec = flt_mch[flt_mch.winner == 'Rajasthan Royals'].toss_decision.count() #75\n",
    "rr_tossdec = flt_mch[flt_mch.winner == 'Rajasthan Royals'].toss_decision.count() #75\n",
    "print(\"Delhi won by toss decision: \",dc_tossdec)\n",
    "print(\"Rajasthan won by toss decision: \",rr_tossdec)"
   ]
  },
  {
   "cell_type": "code",
   "execution_count": 118,
   "metadata": {},
   "outputs": [
    {
     "name": "stdout",
     "output_type": "stream",
     "text": [
      "Delhi won by DL:  77\n",
      "Rajasthan won by DL:  75\n"
     ]
    }
   ],
   "source": [
    "#optional\n",
    "dc_dlapply = flt_mch[flt_mch.winner == 'Delhi Capitals'].dl_applied.count() #77\n",
    "rr_dlapply = flt_mch[flt_mch.winner == 'Rajasthan Royals'].dl_applied.count() #75\n",
    "print(\"Delhi won by DL: \",dc_dlapply)\n",
    "print(\"Rajasthan won by DL: \",rr_dlapply)"
   ]
  },
  {
   "cell_type": "code",
   "execution_count": 120,
   "metadata": {},
   "outputs": [
    {
     "data": {
      "text/html": [
       "<div>\n",
       "<style scoped>\n",
       "    .dataframe tbody tr th:only-of-type {\n",
       "        vertical-align: middle;\n",
       "    }\n",
       "\n",
       "    .dataframe tbody tr th {\n",
       "        vertical-align: top;\n",
       "    }\n",
       "\n",
       "    .dataframe thead th {\n",
       "        text-align: right;\n",
       "    }\n",
       "</style>\n",
       "<table border=\"1\" class=\"dataframe\">\n",
       "  <thead>\n",
       "    <tr style=\"text-align: right;\">\n",
       "      <th></th>\n",
       "      <th>match_id</th>\n",
       "      <th>inning</th>\n",
       "      <th>batting_team</th>\n",
       "      <th>bowling_team</th>\n",
       "      <th>over</th>\n",
       "      <th>ball</th>\n",
       "      <th>batsman</th>\n",
       "      <th>non_striker</th>\n",
       "      <th>bowler</th>\n",
       "      <th>is_super_over</th>\n",
       "      <th>...</th>\n",
       "      <th>bye_runs</th>\n",
       "      <th>legbye_runs</th>\n",
       "      <th>noball_runs</th>\n",
       "      <th>penalty_runs</th>\n",
       "      <th>batsman_runs</th>\n",
       "      <th>extra_runs</th>\n",
       "      <th>total_runs</th>\n",
       "      <th>player_dismissed</th>\n",
       "      <th>dismissal_kind</th>\n",
       "      <th>fielder</th>\n",
       "    </tr>\n",
       "  </thead>\n",
       "  <tbody>\n",
       "    <tr>\n",
       "      <th>174209</th>\n",
       "      <td>11331</td>\n",
       "      <td>1</td>\n",
       "      <td>Rajasthan Royals</td>\n",
       "      <td>Delhi Capitals</td>\n",
       "      <td>1</td>\n",
       "      <td>1</td>\n",
       "      <td>AM Rahane</td>\n",
       "      <td>SV Samson</td>\n",
       "      <td>I Sharma</td>\n",
       "      <td>0</td>\n",
       "      <td>...</td>\n",
       "      <td>0</td>\n",
       "      <td>0</td>\n",
       "      <td>0</td>\n",
       "      <td>0</td>\n",
       "      <td>0</td>\n",
       "      <td>0</td>\n",
       "      <td>0</td>\n",
       "      <td>NaN</td>\n",
       "      <td>NaN</td>\n",
       "      <td>NaN</td>\n",
       "    </tr>\n",
       "    <tr>\n",
       "      <th>174210</th>\n",
       "      <td>11331</td>\n",
       "      <td>1</td>\n",
       "      <td>Rajasthan Royals</td>\n",
       "      <td>Delhi Capitals</td>\n",
       "      <td>1</td>\n",
       "      <td>2</td>\n",
       "      <td>AM Rahane</td>\n",
       "      <td>SV Samson</td>\n",
       "      <td>I Sharma</td>\n",
       "      <td>0</td>\n",
       "      <td>...</td>\n",
       "      <td>0</td>\n",
       "      <td>0</td>\n",
       "      <td>0</td>\n",
       "      <td>0</td>\n",
       "      <td>4</td>\n",
       "      <td>0</td>\n",
       "      <td>4</td>\n",
       "      <td>NaN</td>\n",
       "      <td>NaN</td>\n",
       "      <td>NaN</td>\n",
       "    </tr>\n",
       "    <tr>\n",
       "      <th>174211</th>\n",
       "      <td>11331</td>\n",
       "      <td>1</td>\n",
       "      <td>Rajasthan Royals</td>\n",
       "      <td>Delhi Capitals</td>\n",
       "      <td>1</td>\n",
       "      <td>3</td>\n",
       "      <td>AM Rahane</td>\n",
       "      <td>SV Samson</td>\n",
       "      <td>I Sharma</td>\n",
       "      <td>0</td>\n",
       "      <td>...</td>\n",
       "      <td>0</td>\n",
       "      <td>0</td>\n",
       "      <td>0</td>\n",
       "      <td>0</td>\n",
       "      <td>0</td>\n",
       "      <td>0</td>\n",
       "      <td>0</td>\n",
       "      <td>NaN</td>\n",
       "      <td>NaN</td>\n",
       "      <td>NaN</td>\n",
       "    </tr>\n",
       "    <tr>\n",
       "      <th>174212</th>\n",
       "      <td>11331</td>\n",
       "      <td>1</td>\n",
       "      <td>Rajasthan Royals</td>\n",
       "      <td>Delhi Capitals</td>\n",
       "      <td>1</td>\n",
       "      <td>4</td>\n",
       "      <td>AM Rahane</td>\n",
       "      <td>SV Samson</td>\n",
       "      <td>I Sharma</td>\n",
       "      <td>0</td>\n",
       "      <td>...</td>\n",
       "      <td>0</td>\n",
       "      <td>0</td>\n",
       "      <td>0</td>\n",
       "      <td>0</td>\n",
       "      <td>0</td>\n",
       "      <td>0</td>\n",
       "      <td>0</td>\n",
       "      <td>NaN</td>\n",
       "      <td>NaN</td>\n",
       "      <td>NaN</td>\n",
       "    </tr>\n",
       "    <tr>\n",
       "      <th>174213</th>\n",
       "      <td>11331</td>\n",
       "      <td>1</td>\n",
       "      <td>Rajasthan Royals</td>\n",
       "      <td>Delhi Capitals</td>\n",
       "      <td>1</td>\n",
       "      <td>5</td>\n",
       "      <td>AM Rahane</td>\n",
       "      <td>SV Samson</td>\n",
       "      <td>I Sharma</td>\n",
       "      <td>0</td>\n",
       "      <td>...</td>\n",
       "      <td>0</td>\n",
       "      <td>0</td>\n",
       "      <td>0</td>\n",
       "      <td>0</td>\n",
       "      <td>0</td>\n",
       "      <td>0</td>\n",
       "      <td>0</td>\n",
       "      <td>NaN</td>\n",
       "      <td>NaN</td>\n",
       "      <td>NaN</td>\n",
       "    </tr>\n",
       "    <tr>\n",
       "      <th>...</th>\n",
       "      <td>...</td>\n",
       "      <td>...</td>\n",
       "      <td>...</td>\n",
       "      <td>...</td>\n",
       "      <td>...</td>\n",
       "      <td>...</td>\n",
       "      <td>...</td>\n",
       "      <td>...</td>\n",
       "      <td>...</td>\n",
       "      <td>...</td>\n",
       "      <td>...</td>\n",
       "      <td>...</td>\n",
       "      <td>...</td>\n",
       "      <td>...</td>\n",
       "      <td>...</td>\n",
       "      <td>...</td>\n",
       "      <td>...</td>\n",
       "      <td>...</td>\n",
       "      <td>...</td>\n",
       "      <td>...</td>\n",
       "      <td>...</td>\n",
       "    </tr>\n",
       "    <tr>\n",
       "      <th>177388</th>\n",
       "      <td>11344</td>\n",
       "      <td>2</td>\n",
       "      <td>Delhi Capitals</td>\n",
       "      <td>Rajasthan Royals</td>\n",
       "      <td>16</td>\n",
       "      <td>3</td>\n",
       "      <td>RR Pant</td>\n",
       "      <td>AR Patel</td>\n",
       "      <td>S Gopal</td>\n",
       "      <td>0</td>\n",
       "      <td>...</td>\n",
       "      <td>0</td>\n",
       "      <td>0</td>\n",
       "      <td>0</td>\n",
       "      <td>0</td>\n",
       "      <td>1</td>\n",
       "      <td>0</td>\n",
       "      <td>1</td>\n",
       "      <td>NaN</td>\n",
       "      <td>NaN</td>\n",
       "      <td>NaN</td>\n",
       "    </tr>\n",
       "    <tr>\n",
       "      <th>177389</th>\n",
       "      <td>11344</td>\n",
       "      <td>2</td>\n",
       "      <td>Delhi Capitals</td>\n",
       "      <td>Rajasthan Royals</td>\n",
       "      <td>16</td>\n",
       "      <td>4</td>\n",
       "      <td>AR Patel</td>\n",
       "      <td>RR Pant</td>\n",
       "      <td>S Gopal</td>\n",
       "      <td>0</td>\n",
       "      <td>...</td>\n",
       "      <td>0</td>\n",
       "      <td>0</td>\n",
       "      <td>0</td>\n",
       "      <td>0</td>\n",
       "      <td>1</td>\n",
       "      <td>0</td>\n",
       "      <td>1</td>\n",
       "      <td>NaN</td>\n",
       "      <td>NaN</td>\n",
       "      <td>NaN</td>\n",
       "    </tr>\n",
       "    <tr>\n",
       "      <th>177390</th>\n",
       "      <td>11344</td>\n",
       "      <td>2</td>\n",
       "      <td>Delhi Capitals</td>\n",
       "      <td>Rajasthan Royals</td>\n",
       "      <td>16</td>\n",
       "      <td>5</td>\n",
       "      <td>RR Pant</td>\n",
       "      <td>AR Patel</td>\n",
       "      <td>S Gopal</td>\n",
       "      <td>0</td>\n",
       "      <td>...</td>\n",
       "      <td>0</td>\n",
       "      <td>0</td>\n",
       "      <td>0</td>\n",
       "      <td>0</td>\n",
       "      <td>6</td>\n",
       "      <td>0</td>\n",
       "      <td>6</td>\n",
       "      <td>NaN</td>\n",
       "      <td>NaN</td>\n",
       "      <td>NaN</td>\n",
       "    </tr>\n",
       "    <tr>\n",
       "      <th>177391</th>\n",
       "      <td>11344</td>\n",
       "      <td>2</td>\n",
       "      <td>Delhi Capitals</td>\n",
       "      <td>Rajasthan Royals</td>\n",
       "      <td>16</td>\n",
       "      <td>6</td>\n",
       "      <td>RR Pant</td>\n",
       "      <td>AR Patel</td>\n",
       "      <td>S Gopal</td>\n",
       "      <td>0</td>\n",
       "      <td>...</td>\n",
       "      <td>0</td>\n",
       "      <td>0</td>\n",
       "      <td>0</td>\n",
       "      <td>0</td>\n",
       "      <td>1</td>\n",
       "      <td>0</td>\n",
       "      <td>1</td>\n",
       "      <td>NaN</td>\n",
       "      <td>NaN</td>\n",
       "      <td>NaN</td>\n",
       "    </tr>\n",
       "    <tr>\n",
       "      <th>177392</th>\n",
       "      <td>11344</td>\n",
       "      <td>2</td>\n",
       "      <td>Delhi Capitals</td>\n",
       "      <td>Rajasthan Royals</td>\n",
       "      <td>17</td>\n",
       "      <td>1</td>\n",
       "      <td>RR Pant</td>\n",
       "      <td>AR Patel</td>\n",
       "      <td>I Sodhi</td>\n",
       "      <td>0</td>\n",
       "      <td>...</td>\n",
       "      <td>0</td>\n",
       "      <td>0</td>\n",
       "      <td>0</td>\n",
       "      <td>0</td>\n",
       "      <td>6</td>\n",
       "      <td>0</td>\n",
       "      <td>6</td>\n",
       "      <td>NaN</td>\n",
       "      <td>NaN</td>\n",
       "      <td>NaN</td>\n",
       "    </tr>\n",
       "  </tbody>\n",
       "</table>\n",
       "<p>465 rows × 21 columns</p>\n",
       "</div>"
      ],
      "text/plain": [
       "        match_id  inning      batting_team      bowling_team  over  ball  \\\n",
       "174209     11331       1  Rajasthan Royals    Delhi Capitals     1     1   \n",
       "174210     11331       1  Rajasthan Royals    Delhi Capitals     1     2   \n",
       "174211     11331       1  Rajasthan Royals    Delhi Capitals     1     3   \n",
       "174212     11331       1  Rajasthan Royals    Delhi Capitals     1     4   \n",
       "174213     11331       1  Rajasthan Royals    Delhi Capitals     1     5   \n",
       "...          ...     ...               ...               ...   ...   ...   \n",
       "177388     11344       2    Delhi Capitals  Rajasthan Royals    16     3   \n",
       "177389     11344       2    Delhi Capitals  Rajasthan Royals    16     4   \n",
       "177390     11344       2    Delhi Capitals  Rajasthan Royals    16     5   \n",
       "177391     11344       2    Delhi Capitals  Rajasthan Royals    16     6   \n",
       "177392     11344       2    Delhi Capitals  Rajasthan Royals    17     1   \n",
       "\n",
       "          batsman non_striker    bowler  is_super_over  ...  bye_runs  \\\n",
       "174209  AM Rahane   SV Samson  I Sharma              0  ...         0   \n",
       "174210  AM Rahane   SV Samson  I Sharma              0  ...         0   \n",
       "174211  AM Rahane   SV Samson  I Sharma              0  ...         0   \n",
       "174212  AM Rahane   SV Samson  I Sharma              0  ...         0   \n",
       "174213  AM Rahane   SV Samson  I Sharma              0  ...         0   \n",
       "...           ...         ...       ...            ...  ...       ...   \n",
       "177388    RR Pant    AR Patel   S Gopal              0  ...         0   \n",
       "177389   AR Patel     RR Pant   S Gopal              0  ...         0   \n",
       "177390    RR Pant    AR Patel   S Gopal              0  ...         0   \n",
       "177391    RR Pant    AR Patel   S Gopal              0  ...         0   \n",
       "177392    RR Pant    AR Patel   I Sodhi              0  ...         0   \n",
       "\n",
       "        legbye_runs  noball_runs  penalty_runs  batsman_runs  extra_runs  \\\n",
       "174209            0            0             0             0           0   \n",
       "174210            0            0             0             4           0   \n",
       "174211            0            0             0             0           0   \n",
       "174212            0            0             0             0           0   \n",
       "174213            0            0             0             0           0   \n",
       "...             ...          ...           ...           ...         ...   \n",
       "177388            0            0             0             1           0   \n",
       "177389            0            0             0             1           0   \n",
       "177390            0            0             0             6           0   \n",
       "177391            0            0             0             1           0   \n",
       "177392            0            0             0             6           0   \n",
       "\n",
       "        total_runs  player_dismissed dismissal_kind fielder  \n",
       "174209           0               NaN            NaN     NaN  \n",
       "174210           4               NaN            NaN     NaN  \n",
       "174211           0               NaN            NaN     NaN  \n",
       "174212           0               NaN            NaN     NaN  \n",
       "174213           0               NaN            NaN     NaN  \n",
       "...            ...               ...            ...     ...  \n",
       "177388           1               NaN            NaN     NaN  \n",
       "177389           1               NaN            NaN     NaN  \n",
       "177390           6               NaN            NaN     NaN  \n",
       "177391           1               NaN            NaN     NaN  \n",
       "177392           6               NaN            NaN     NaN  \n",
       "\n",
       "[465 rows x 21 columns]"
      ]
     },
     "execution_count": 120,
     "metadata": {},
     "output_type": "execute_result"
    }
   ],
   "source": [
    "flt_dlv = dlv[((dlv.batting_team == 'Rajasthan Royals') & (dlv.bowling_team == 'Delhi Capitals')) \n",
    "             | ((dlv.batting_team == 'Delhi Capitals') & (dlv.bowling_team == 'Rajasthan Royals'))]\n",
    "flt_dlv"
   ]
  },
  {
   "cell_type": "code",
   "execution_count": 144,
   "metadata": {
    "scrolled": true
   },
   "outputs": [
    {
     "name": "stdout",
     "output_type": "stream",
     "text": [
      "(1.5757575757575757, 33.0)\n"
     ]
    }
   ],
   "source": [
    "#Smith runs\n",
    "a = flt_dlv['batsman'].str.contains('Smith', case=False)\n",
    "b = flt_dlv[a].total_runs\n",
    "print(np.average(b, returned=True))"
   ]
  },
  {
   "cell_type": "code",
   "execution_count": 145,
   "metadata": {},
   "outputs": [
    {
     "data": {
      "text/plain": [
       "Index(['match_id', 'inning', 'batting_team', 'bowling_team', 'over', 'ball',\n",
       "       'batsman', 'non_striker', 'bowler', 'is_super_over', 'wide_runs',\n",
       "       'bye_runs', 'legbye_runs', 'noball_runs', 'penalty_runs',\n",
       "       'batsman_runs', 'extra_runs', 'total_runs', 'player_dismissed',\n",
       "       'dismissal_kind', 'fielder'],\n",
       "      dtype='object')"
      ]
     },
     "execution_count": 145,
     "metadata": {},
     "output_type": "execute_result"
    }
   ],
   "source": [
    "flt_dlv.columns"
   ]
  },
  {
   "cell_type": "code",
   "execution_count": 155,
   "metadata": {},
   "outputs": [
    {
     "name": "stdout",
     "output_type": "stream",
     "text": [
      "0.030107526881720432\n"
     ]
    }
   ],
   "source": [
    "#Wide runs\n",
    "c = flt_dlv.wide_runs\n",
    "print(np.average(c))"
   ]
  },
  {
   "cell_type": "code",
   "execution_count": 164,
   "metadata": {},
   "outputs": [
    {
     "name": "stdout",
     "output_type": "stream",
     "text": [
      "[nan 'SV Samson' 'SPD Smith' 'BA Stokes' 'A Turner' 'STR Binny' 'R Parag'\n",
      " 'S Dhawan' 'SS Iyer' 'P Shaw' 'S Rutherford' 'AM Rahane' 'L Livingstone'\n",
      " 'M Lomror' 'S Gopal' 'K Gowtham' 'I Sodhi' 'C Ingram']\n"
     ]
    }
   ],
   "source": [
    "#Wickets\n",
    "d = flt_dlv.player_dismissed.unique()\n",
    "print(d)"
   ]
  }
 ],
 "metadata": {
  "kernelspec": {
   "display_name": "Python 3",
   "language": "python",
   "name": "python3"
  },
  "language_info": {
   "codemirror_mode": {
    "name": "ipython",
    "version": 3
   },
   "file_extension": ".py",
   "mimetype": "text/x-python",
   "name": "python",
   "nbconvert_exporter": "python",
   "pygments_lexer": "ipython3",
   "version": "3.7.6"
  }
 },
 "nbformat": 4,
 "nbformat_minor": 4
}
