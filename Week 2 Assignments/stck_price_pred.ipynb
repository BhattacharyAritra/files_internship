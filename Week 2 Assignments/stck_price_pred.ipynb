{
 "cells": [
  {
   "cell_type": "code",
   "execution_count": 548,
   "metadata": {},
   "outputs": [
    {
     "name": "stdout",
     "output_type": "stream",
     "text": [
      "Requirement already satisfied: quandl in c:\\programdata\\anaconda3\\lib\\site-packages (3.6.0)Note: you may need to restart the kernel to use updated packages.\n",
      "\n",
      "Requirement already satisfied: six in c:\\programdata\\anaconda3\\lib\\site-packages (from quandl) (1.15.0)\n",
      "Requirement already satisfied: inflection>=0.3.1 in c:\\programdata\\anaconda3\\lib\\site-packages (from quandl) (0.5.1)\n",
      "Requirement already satisfied: numpy>=1.8 in c:\\programdata\\anaconda3\\lib\\site-packages (from quandl) (1.18.5)\n",
      "Requirement already satisfied: requests>=2.7.0 in c:\\programdata\\anaconda3\\lib\\site-packages (from quandl) (2.24.0)\n",
      "Requirement already satisfied: pandas>=0.14 in c:\\programdata\\anaconda3\\lib\\site-packages (from quandl) (1.0.5)\n",
      "Requirement already satisfied: more-itertools in c:\\programdata\\anaconda3\\lib\\site-packages (from quandl) (8.4.0)\n",
      "Requirement already satisfied: python-dateutil in c:\\programdata\\anaconda3\\lib\\site-packages (from quandl) (2.8.1)\n",
      "Requirement already satisfied: idna<3,>=2.5 in c:\\programdata\\anaconda3\\lib\\site-packages (from requests>=2.7.0->quandl) (2.10)\n",
      "Requirement already satisfied: chardet<4,>=3.0.2 in c:\\programdata\\anaconda3\\lib\\site-packages (from requests>=2.7.0->quandl) (3.0.4)\n",
      "Requirement already satisfied: certifi>=2017.4.17 in c:\\programdata\\anaconda3\\lib\\site-packages (from requests>=2.7.0->quandl) (2020.6.20)\n",
      "Requirement already satisfied: urllib3!=1.25.0,!=1.25.1,<1.26,>=1.21.1 in c:\\programdata\\anaconda3\\lib\\site-packages (from requests>=2.7.0->quandl) (1.25.9)\n",
      "Requirement already satisfied: pytz>=2017.2 in c:\\programdata\\anaconda3\\lib\\site-packages (from pandas>=0.14->quandl) (2020.1)\n"
     ]
    }
   ],
   "source": [
    "pip install quandl"
   ]
  },
  {
   "cell_type": "code",
   "execution_count": 549,
   "metadata": {},
   "outputs": [],
   "source": [
    "import quandl\n",
    "import pandas\n",
    "import numpy"
   ]
  },
  {
   "cell_type": "code",
   "execution_count": 550,
   "metadata": {},
   "outputs": [
    {
     "data": {
      "text/plain": [
       "'C:\\\\Users\\\\ari_b\\\\Documents\\\\Winternship by Widhya\\\\Week 2 Assignments'"
      ]
     },
     "execution_count": 550,
     "metadata": {},
     "output_type": "execute_result"
    }
   ],
   "source": [
    "import os\n",
    "os.getcwd()"
   ]
  },
  {
   "cell_type": "code",
   "execution_count": 551,
   "metadata": {},
   "outputs": [],
   "source": [
    "quandl_token = open('quandl_auth_token.txt', 'r').read()\n",
    "data = quandl.get(\"WIKI/KO\", trim_start = \"2010-01-01\", trim_end = \"2020-12-31\", authtoken=quandl_token)"
   ]
  },
  {
   "cell_type": "code",
   "execution_count": 552,
   "metadata": {},
   "outputs": [
    {
     "data": {
      "text/html": [
       "<div>\n",
       "<style scoped>\n",
       "    .dataframe tbody tr th:only-of-type {\n",
       "        vertical-align: middle;\n",
       "    }\n",
       "\n",
       "    .dataframe tbody tr th {\n",
       "        vertical-align: top;\n",
       "    }\n",
       "\n",
       "    .dataframe thead th {\n",
       "        text-align: right;\n",
       "    }\n",
       "</style>\n",
       "<table border=\"1\" class=\"dataframe\">\n",
       "  <thead>\n",
       "    <tr style=\"text-align: right;\">\n",
       "      <th></th>\n",
       "      <th>Open</th>\n",
       "      <th>High</th>\n",
       "      <th>Low</th>\n",
       "      <th>Close</th>\n",
       "      <th>Volume</th>\n",
       "      <th>Ex-Dividend</th>\n",
       "      <th>Split Ratio</th>\n",
       "      <th>Adj. Open</th>\n",
       "      <th>Adj. High</th>\n",
       "      <th>Adj. Low</th>\n",
       "      <th>Adj. Close</th>\n",
       "      <th>Adj. Volume</th>\n",
       "    </tr>\n",
       "    <tr>\n",
       "      <th>Date</th>\n",
       "      <th></th>\n",
       "      <th></th>\n",
       "      <th></th>\n",
       "      <th></th>\n",
       "      <th></th>\n",
       "      <th></th>\n",
       "      <th></th>\n",
       "      <th></th>\n",
       "      <th></th>\n",
       "      <th></th>\n",
       "      <th></th>\n",
       "      <th></th>\n",
       "    </tr>\n",
       "  </thead>\n",
       "  <tbody>\n",
       "    <tr>\n",
       "      <th>2010-01-04</th>\n",
       "      <td>57.16</td>\n",
       "      <td>57.22</td>\n",
       "      <td>56.90</td>\n",
       "      <td>57.04</td>\n",
       "      <td>6935200.0</td>\n",
       "      <td>0.0</td>\n",
       "      <td>1.0</td>\n",
       "      <td>22.606698</td>\n",
       "      <td>22.630428</td>\n",
       "      <td>22.503868</td>\n",
       "      <td>22.559238</td>\n",
       "      <td>13870400.0</td>\n",
       "    </tr>\n",
       "    <tr>\n",
       "      <th>2010-01-05</th>\n",
       "      <td>56.85</td>\n",
       "      <td>56.99</td>\n",
       "      <td>56.14</td>\n",
       "      <td>56.35</td>\n",
       "      <td>11586200.0</td>\n",
       "      <td>0.0</td>\n",
       "      <td>1.0</td>\n",
       "      <td>22.484093</td>\n",
       "      <td>22.539463</td>\n",
       "      <td>22.203289</td>\n",
       "      <td>22.286344</td>\n",
       "      <td>23172400.0</td>\n",
       "    </tr>\n",
       "    <tr>\n",
       "      <th>2010-01-06</th>\n",
       "      <td>56.35</td>\n",
       "      <td>56.44</td>\n",
       "      <td>55.98</td>\n",
       "      <td>56.33</td>\n",
       "      <td>9632300.0</td>\n",
       "      <td>0.0</td>\n",
       "      <td>1.0</td>\n",
       "      <td>22.286344</td>\n",
       "      <td>22.321939</td>\n",
       "      <td>22.140009</td>\n",
       "      <td>22.278434</td>\n",
       "      <td>19264600.0</td>\n",
       "    </tr>\n",
       "    <tr>\n",
       "      <th>2010-01-07</th>\n",
       "      <td>56.33</td>\n",
       "      <td>56.37</td>\n",
       "      <td>55.75</td>\n",
       "      <td>56.19</td>\n",
       "      <td>6617300.0</td>\n",
       "      <td>0.0</td>\n",
       "      <td>1.0</td>\n",
       "      <td>22.278434</td>\n",
       "      <td>22.294254</td>\n",
       "      <td>22.049045</td>\n",
       "      <td>22.223064</td>\n",
       "      <td>13234600.0</td>\n",
       "    </tr>\n",
       "    <tr>\n",
       "      <th>2010-01-08</th>\n",
       "      <td>55.46</td>\n",
       "      <td>55.64</td>\n",
       "      <td>54.75</td>\n",
       "      <td>55.15</td>\n",
       "      <td>14356200.0</td>\n",
       "      <td>0.0</td>\n",
       "      <td>1.0</td>\n",
       "      <td>21.934350</td>\n",
       "      <td>22.005540</td>\n",
       "      <td>21.653546</td>\n",
       "      <td>21.811746</td>\n",
       "      <td>28712400.0</td>\n",
       "    </tr>\n",
       "  </tbody>\n",
       "</table>\n",
       "</div>"
      ],
      "text/plain": [
       "             Open   High    Low  Close      Volume  Ex-Dividend  Split Ratio  \\\n",
       "Date                                                                           \n",
       "2010-01-04  57.16  57.22  56.90  57.04   6935200.0          0.0          1.0   \n",
       "2010-01-05  56.85  56.99  56.14  56.35  11586200.0          0.0          1.0   \n",
       "2010-01-06  56.35  56.44  55.98  56.33   9632300.0          0.0          1.0   \n",
       "2010-01-07  56.33  56.37  55.75  56.19   6617300.0          0.0          1.0   \n",
       "2010-01-08  55.46  55.64  54.75  55.15  14356200.0          0.0          1.0   \n",
       "\n",
       "            Adj. Open  Adj. High   Adj. Low  Adj. Close  Adj. Volume  \n",
       "Date                                                                  \n",
       "2010-01-04  22.606698  22.630428  22.503868   22.559238   13870400.0  \n",
       "2010-01-05  22.484093  22.539463  22.203289   22.286344   23172400.0  \n",
       "2010-01-06  22.286344  22.321939  22.140009   22.278434   19264600.0  \n",
       "2010-01-07  22.278434  22.294254  22.049045   22.223064   13234600.0  \n",
       "2010-01-08  21.934350  22.005540  21.653546   21.811746   28712400.0  "
      ]
     },
     "execution_count": 552,
     "metadata": {},
     "output_type": "execute_result"
    }
   ],
   "source": [
    "data.head()"
   ]
  },
  {
   "cell_type": "code",
   "execution_count": 553,
   "metadata": {},
   "outputs": [
    {
     "data": {
      "text/plain": [
       "Index(['Open', 'High', 'Low', 'Close', 'Volume', 'Ex-Dividend', 'Split Ratio',\n",
       "       'Adj. Open', 'Adj. High', 'Adj. Low', 'Adj. Close', 'Adj. Volume'],\n",
       "      dtype='object')"
      ]
     },
     "execution_count": 553,
     "metadata": {},
     "output_type": "execute_result"
    }
   ],
   "source": [
    "data.columns"
   ]
  },
  {
   "cell_type": "code",
   "execution_count": 554,
   "metadata": {},
   "outputs": [
    {
     "data": {
      "text/plain": [
       "2071"
      ]
     },
     "execution_count": 554,
     "metadata": {},
     "output_type": "execute_result"
    }
   ],
   "source": [
    "len(data)"
   ]
  },
  {
   "cell_type": "code",
   "execution_count": 555,
   "metadata": {},
   "outputs": [
    {
     "data": {
      "text/plain": [
       "False"
      ]
     },
     "execution_count": 555,
     "metadata": {},
     "output_type": "execute_result"
    }
   ],
   "source": [
    "data.isnull().values.any()"
   ]
  },
  {
   "cell_type": "code",
   "execution_count": 556,
   "metadata": {},
   "outputs": [
    {
     "data": {
      "text/plain": [
       "Date\n",
       "2010-01-04    22.503868\n",
       "2010-01-05    22.203289\n",
       "2010-01-06    22.140009\n",
       "2010-01-07    22.049045\n",
       "2010-01-08    21.653546\n",
       "                ...    \n",
       "2018-03-21    42.790000\n",
       "2018-03-22    42.700000\n",
       "2018-03-23    42.290000\n",
       "2018-03-26    42.250000\n",
       "2018-03-27    42.525000\n",
       "Name: Adj. Low, Length: 2071, dtype: float64"
      ]
     },
     "execution_count": 556,
     "metadata": {},
     "output_type": "execute_result"
    }
   ],
   "source": [
    "data['Adj. Low']"
   ]
  },
  {
   "cell_type": "code",
   "execution_count": 557,
   "metadata": {},
   "outputs": [
    {
     "data": {
      "text/plain": [
       "Date\n",
       "2010-01-04    22.630428\n",
       "2010-01-05    22.539463\n",
       "2010-01-06    22.321939\n",
       "2010-01-07    22.294254\n",
       "2010-01-08    22.005540\n",
       "                ...    \n",
       "2018-03-21    43.450000\n",
       "2018-03-22    43.365000\n",
       "2018-03-23    43.155600\n",
       "2018-03-26    42.809900\n",
       "2018-03-27    43.310000\n",
       "Name: Adj. High, Length: 2071, dtype: float64"
      ]
     },
     "execution_count": 557,
     "metadata": {},
     "output_type": "execute_result"
    }
   ],
   "source": [
    "data['Adj. High']"
   ]
  },
  {
   "cell_type": "code",
   "execution_count": 558,
   "metadata": {},
   "outputs": [],
   "source": [
    "data['High_Low_Percent'] = (data['Adj. High'] - data['Adj. Low']) / data['Adj. Close'] * 100"
   ]
  },
  {
   "cell_type": "code",
   "execution_count": 559,
   "metadata": {},
   "outputs": [
    {
     "data": {
      "text/plain": [
       "Date\n",
       "2010-01-04    0.561010\n",
       "2010-01-05    1.508429\n",
       "2010-01-06    0.816616\n",
       "2010-01-07    1.103399\n",
       "2010-01-08    1.613781\n",
       "                ...   \n",
       "2018-03-21    1.534884\n",
       "2018-03-22    1.555192\n",
       "2018-03-23    2.044885\n",
       "2018-03-26    1.311548\n",
       "2018-03-27    1.830263\n",
       "Name: High_Low_Percent, Length: 2071, dtype: float64"
      ]
     },
     "execution_count": 559,
     "metadata": {},
     "output_type": "execute_result"
    }
   ],
   "source": [
    "data.High_Low_Percent"
   ]
  },
  {
   "cell_type": "code",
   "execution_count": 560,
   "metadata": {},
   "outputs": [],
   "source": [
    "data['Percent_Change'] = (data['Adj. Close'] - data['Adj. Open']) / data['Adj. Open'] * 100"
   ]
  },
  {
   "cell_type": "code",
   "execution_count": 561,
   "metadata": {},
   "outputs": [
    {
     "data": {
      "text/plain": [
       "Date\n",
       "2010-01-04   -0.209937\n",
       "2010-01-05   -0.879507\n",
       "2010-01-06   -0.035492\n",
       "2010-01-07   -0.248535\n",
       "2010-01-08   -0.558961\n",
       "Name: Percent_Change, dtype: float64"
      ]
     },
     "execution_count": 561,
     "metadata": {},
     "output_type": "execute_result"
    }
   ],
   "source": [
    "data['Percent_Change'].head()"
   ]
  },
  {
   "cell_type": "code",
   "execution_count": 562,
   "metadata": {},
   "outputs": [
    {
     "data": {
      "text/plain": [
       "Index(['Open', 'High', 'Low', 'Close', 'Volume', 'Ex-Dividend', 'Split Ratio',\n",
       "       'Adj. Open', 'Adj. High', 'Adj. Low', 'Adj. Close', 'Adj. Volume',\n",
       "       'High_Low_Percent', 'Percent_Change'],\n",
       "      dtype='object')"
      ]
     },
     "execution_count": 562,
     "metadata": {},
     "output_type": "execute_result"
    }
   ],
   "source": [
    "data.columns"
   ]
  },
  {
   "cell_type": "code",
   "execution_count": 563,
   "metadata": {},
   "outputs": [],
   "source": [
    "data = data[['Adj. Close', 'Percent_Change', 'High_Low_Percent', 'Adj. Volume']]"
   ]
  },
  {
   "cell_type": "code",
   "execution_count": 564,
   "metadata": {},
   "outputs": [
    {
     "data": {
      "text/html": [
       "<div>\n",
       "<style scoped>\n",
       "    .dataframe tbody tr th:only-of-type {\n",
       "        vertical-align: middle;\n",
       "    }\n",
       "\n",
       "    .dataframe tbody tr th {\n",
       "        vertical-align: top;\n",
       "    }\n",
       "\n",
       "    .dataframe thead th {\n",
       "        text-align: right;\n",
       "    }\n",
       "</style>\n",
       "<table border=\"1\" class=\"dataframe\">\n",
       "  <thead>\n",
       "    <tr style=\"text-align: right;\">\n",
       "      <th></th>\n",
       "      <th>Adj. Close</th>\n",
       "      <th>Percent_Change</th>\n",
       "      <th>High_Low_Percent</th>\n",
       "      <th>Adj. Volume</th>\n",
       "    </tr>\n",
       "    <tr>\n",
       "      <th>Date</th>\n",
       "      <th></th>\n",
       "      <th></th>\n",
       "      <th></th>\n",
       "      <th></th>\n",
       "    </tr>\n",
       "  </thead>\n",
       "  <tbody>\n",
       "    <tr>\n",
       "      <th>2010-01-04</th>\n",
       "      <td>22.559238</td>\n",
       "      <td>-0.209937</td>\n",
       "      <td>0.561010</td>\n",
       "      <td>13870400.0</td>\n",
       "    </tr>\n",
       "    <tr>\n",
       "      <th>2010-01-05</th>\n",
       "      <td>22.286344</td>\n",
       "      <td>-0.879507</td>\n",
       "      <td>1.508429</td>\n",
       "      <td>23172400.0</td>\n",
       "    </tr>\n",
       "    <tr>\n",
       "      <th>2010-01-06</th>\n",
       "      <td>22.278434</td>\n",
       "      <td>-0.035492</td>\n",
       "      <td>0.816616</td>\n",
       "      <td>19264600.0</td>\n",
       "    </tr>\n",
       "    <tr>\n",
       "      <th>2010-01-07</th>\n",
       "      <td>22.223064</td>\n",
       "      <td>-0.248535</td>\n",
       "      <td>1.103399</td>\n",
       "      <td>13234600.0</td>\n",
       "    </tr>\n",
       "    <tr>\n",
       "      <th>2010-01-08</th>\n",
       "      <td>21.811746</td>\n",
       "      <td>-0.558961</td>\n",
       "      <td>1.613781</td>\n",
       "      <td>28712400.0</td>\n",
       "    </tr>\n",
       "    <tr>\n",
       "      <th>2010-01-11</th>\n",
       "      <td>22.254704</td>\n",
       "      <td>2.030825</td>\n",
       "      <td>2.927492</td>\n",
       "      <td>28642400.0</td>\n",
       "    </tr>\n",
       "    <tr>\n",
       "      <th>2010-01-12</th>\n",
       "      <td>22.495958</td>\n",
       "      <td>1.408451</td>\n",
       "      <td>1.652602</td>\n",
       "      <td>23269800.0</td>\n",
       "    </tr>\n",
       "    <tr>\n",
       "      <th>2010-01-13</th>\n",
       "      <td>22.555283</td>\n",
       "      <td>0.298980</td>\n",
       "      <td>1.297738</td>\n",
       "      <td>15157400.0</td>\n",
       "    </tr>\n",
       "    <tr>\n",
       "      <th>2010-01-14</th>\n",
       "      <td>22.594833</td>\n",
       "      <td>0.157784</td>\n",
       "      <td>0.840189</td>\n",
       "      <td>12392600.0</td>\n",
       "    </tr>\n",
       "    <tr>\n",
       "      <th>2010-01-15</th>\n",
       "      <td>22.262614</td>\n",
       "      <td>-1.158911</td>\n",
       "      <td>2.327234</td>\n",
       "      <td>27460800.0</td>\n",
       "    </tr>\n",
       "  </tbody>\n",
       "</table>\n",
       "</div>"
      ],
      "text/plain": [
       "            Adj. Close  Percent_Change  High_Low_Percent  Adj. Volume\n",
       "Date                                                                 \n",
       "2010-01-04   22.559238       -0.209937          0.561010   13870400.0\n",
       "2010-01-05   22.286344       -0.879507          1.508429   23172400.0\n",
       "2010-01-06   22.278434       -0.035492          0.816616   19264600.0\n",
       "2010-01-07   22.223064       -0.248535          1.103399   13234600.0\n",
       "2010-01-08   21.811746       -0.558961          1.613781   28712400.0\n",
       "2010-01-11   22.254704        2.030825          2.927492   28642400.0\n",
       "2010-01-12   22.495958        1.408451          1.652602   23269800.0\n",
       "2010-01-13   22.555283        0.298980          1.297738   15157400.0\n",
       "2010-01-14   22.594833        0.157784          0.840189   12392600.0\n",
       "2010-01-15   22.262614       -1.158911          2.327234   27460800.0"
      ]
     },
     "execution_count": 564,
     "metadata": {},
     "output_type": "execute_result"
    }
   ],
   "source": [
    "data.head(10)"
   ]
  },
  {
   "cell_type": "code",
   "execution_count": 565,
   "metadata": {},
   "outputs": [
    {
     "data": {
      "text/plain": [
       "False"
      ]
     },
     "execution_count": 565,
     "metadata": {},
     "output_type": "execute_result"
    }
   ],
   "source": [
    "data.isnull().values.any()"
   ]
  },
  {
   "cell_type": "code",
   "execution_count": 566,
   "metadata": {},
   "outputs": [
    {
     "data": {
      "text/plain": [
       "Adj. Close          False\n",
       "Percent_Change      False\n",
       "High_Low_Percent    False\n",
       "Adj. Volume         False\n",
       "dtype: bool"
      ]
     },
     "execution_count": 566,
     "metadata": {},
     "output_type": "execute_result"
    }
   ],
   "source": [
    "data.isna().any()"
   ]
  },
  {
   "cell_type": "code",
   "execution_count": 567,
   "metadata": {},
   "outputs": [],
   "source": [
    "from sklearn.linear_model import LinearRegression\n",
    "from sklearn.model_selection import train_test_split"
   ]
  },
  {
   "cell_type": "code",
   "execution_count": 568,
   "metadata": {},
   "outputs": [],
   "source": [
    "x = data.iloc[:, :-1].values\n",
    "y = data.iloc[:, -1].values"
   ]
  },
  {
   "cell_type": "code",
   "execution_count": 569,
   "metadata": {},
   "outputs": [
    {
     "name": "stdout",
     "output_type": "stream",
     "text": [
      "[[ 2.26e+01 -2.10e-01  5.61e-01]\n",
      " [ 2.23e+01 -8.80e-01  1.51e+00]\n",
      " [ 2.23e+01 -3.55e-02  8.17e-01]\n",
      " ...\n",
      " [ 4.23e+01 -1.14e+00  2.04e+00]\n",
      " [ 4.27e+01  1.88e-01  1.31e+00]\n",
      " [ 4.29e+01  4.45e-01  1.83e+00]]\n"
     ]
    }
   ],
   "source": [
    "print(x)"
   ]
  },
  {
   "cell_type": "code",
   "execution_count": 570,
   "metadata": {},
   "outputs": [
    {
     "name": "stdout",
     "output_type": "stream",
     "text": [
      "[13870400. 23172400. 19264600. ... 13190877. 10939927. 11595357.]\n"
     ]
    }
   ],
   "source": [
    "print(y)"
   ]
  },
  {
   "cell_type": "code",
   "execution_count": 571,
   "metadata": {},
   "outputs": [],
   "source": [
    "regressor = LinearRegression()"
   ]
  },
  {
   "cell_type": "code",
   "execution_count": 572,
   "metadata": {},
   "outputs": [],
   "source": [
    "x_train, x_test, y_train, y_test = train_test_split(x, y, test_size = 0.2, random_state = 0)"
   ]
  },
  {
   "cell_type": "code",
   "execution_count": 573,
   "metadata": {},
   "outputs": [
    {
     "data": {
      "text/plain": [
       "LinearRegression()"
      ]
     },
     "execution_count": 573,
     "metadata": {},
     "output_type": "execute_result"
    }
   ],
   "source": [
    "regressor.fit(x_train, y_train)"
   ]
  },
  {
   "cell_type": "code",
   "execution_count": 580,
   "metadata": {},
   "outputs": [],
   "source": [
    "y_prediction = regressor.predict(x_test)"
   ]
  },
  {
   "cell_type": "code",
   "execution_count": 581,
   "metadata": {
    "scrolled": true
   },
   "outputs": [
    {
     "name": "stdout",
     "output_type": "stream",
     "text": [
      "[13681100.34 16970510.11 11178575.65 14694047.32 11962508.17 15858523.94\n",
      " 19878798.83 19791641.61 15383489.3  16295074.24 10934901.14 14980548.82\n",
      " 15070717.55 10062046.45 16990404.31 14670328.1  13097558.82 10917201.17\n",
      " 11839675.47 14891526.31 24326910.79 11911220.74 14173621.32 20028569.57\n",
      " 13736004.86 14155272.99 18658091.64 17664206.82 11746758.8  15963857.4\n",
      " 16705334.25 18125222.28 14196638.03 10020609.98 11220119.98 16463155.69\n",
      " 14077584.09 13897679.28 26325631.82 21757417.32 10869521.17 18929808.75\n",
      " 20282543.16 12239906.08 16260151.03 14011671.83 15839376.2  15810693.87\n",
      " 13647560.86 12681270.66 10134309.06 11759234.48  9996915.12  9309624.31\n",
      " 15675063.    9567873.93 24293637.36 10488287.18 11813296.15 12633091.45\n",
      " 18914504.95 18352129.23 23643991.86 12519860.91 19359481.69 15239631.17\n",
      " 18977046.47 14503358.34 14527899.7  19953789.93 17070618.76 13719049.35\n",
      " 22430704.62 16429666.36 11647793.77 16060058.37 10032782.18 21449540.17\n",
      "  8940098.24 16612057.42 20037955.05 13159268.28  9864416.55 25881165.99\n",
      " 21975472.64 17425654.21  9724409.44 10798972.18 10257627.84 12045994.69\n",
      " 14626532.01 14122436.62 21725315.32  8953170.14 12606020.07 42612435.3\n",
      " 20668348.87 10913121.44 15804866.53 20874811.19 17778566.41 21043126.26\n",
      " 23396710.61 12140277.26 17021721.6  23135275.51  9163065.12 15331382.19\n",
      " 13380818.43 14787727.83 10937003.9  19819949.02  9231033.62 15477790.13\n",
      " 24962819.35 12332132.66 18225113.05 15194781.11 15973327.7  17002715.54\n",
      " 17234782.68 17751492.91 14791284.93 14847644.7  14142913.56  9899507.77\n",
      " 18074248.79 12856975.42 16514279.16 22245034.05 14027673.41 16661619.74\n",
      " 21127099.76 15479542.15 13647557.65 11839519.24 31196399.81 16677084.99\n",
      " 15376425.3  12760370.27 12397268.85 15404386.74 14415843.85 15878494.86\n",
      " 13666947.88 14220751.01 11573737.81  8845450.23 13044577.14 18009307.07\n",
      " 18631714.45 14055558.16  9535603.53 12999612.95 17670788.66 14076072.06\n",
      " 12855140.77 16584972.28 13408767.52 12045869.24 13577312.22 13682423.58\n",
      " 13735113.99 28125745.57 11565331.25  9279868.67 14162406.05 16144791.47\n",
      "  7689618.32 17721507.14 14283983.4  15663030.2  17211557.88 13807124.79\n",
      " 13601633.75 15315578.03 13364314.15 12353921.97 16357236.98 21986249.29\n",
      " 21141184.85 13981532.02 20677249.57 14636899.49 10309057.32 18256939.57\n",
      " 16599888.79  9764258.13 16984742.72 18008954.07 14814620.84 10415720.73\n",
      " 16075912.89 15994814.85 19243944.38 17777726.38 17382982.9  16431110.9\n",
      " 11473373.04 14553495.95 13358843.55 23385701.38  7650282.36 18776195.48\n",
      " 10258573.55 13231563.95 10339416.4  25697429.54 14377303.78 12746848.56\n",
      " 12159884.46 18933595.52 10127111.38  8945083.95 12568499.29 22197835.53\n",
      " 12819199.59 11486127.64 12896967.87 15747009.46 15651796.31 10454977.42\n",
      " 11512299.16 17121245.56 19915014.53 13385340.4  14027836.06 26092395.25\n",
      " 13814685.68 20614776.35 14926914.37 21067344.47 20104227.44 17365563.32\n",
      " 13218428.31 14425609.33 14363743.77 12474913.15 15652714.36 14236916.49\n",
      " 14882889.    8027531.7  13050995.47 10830821.08 12541065.84 46511304.33\n",
      " 16318257.79 16437247.79 13595665.21 21685642.85  9256185.11 19463412.61\n",
      "  9008824.84 13943374.17 17376051.09 15983705.79 20357810.33 19866163.28\n",
      " 13606296.36 12524751.99 22645524.34 14659910.61 16391913.74 13993673.66\n",
      " 13969949.76 14494443.66  9073933.99 13077784.28  9796342.05 20682024.71\n",
      " 22405915.54 13032011.17  9683733.68 14122459.63  9447646.2  18510421.12\n",
      " 13497098.15 17436938.11 14373099.67 12027158.14 18323886.54 16932513.39\n",
      " 18043744.88 13240129.24  8613051.12 15620859.92 10790753.62 29698403.95\n",
      " 14387879.08 10346431.45 17806553.48 13940481.32 10425682.13 15118768.71\n",
      " 15162455.65 12729599.08 15375019.28 15317090.85 16326481.52 16476814.86\n",
      " 14147046.91 18496034.6  11569110.7  12450010.91 14305112.56 14146956.84\n",
      " 16191478.56 16276967.99 10354983.69 10156194.46 14754992.34  9063997.55\n",
      " 20688720.88 14860271.9  18589009.45 12407348.26 10312633.   14681371.11\n",
      " 12526882.86 14234710.35 14835439.42  8448691.97  8626462.6  12172779.71\n",
      " 22059701.65 10813903.23 15224252.49 19689802.5  15163249.02 16100016.84\n",
      " 12585093.68 11141878.65 14184293.91 10517204.48 19349887.76 17086228.95\n",
      " 17543996.98 15959638.79 17364814.85 10684681.15 15441897.16 15901661.22\n",
      "  9591867.1   8406667.01 13498478.29  9003220.46 18740955.57 21954504.09\n",
      " 12826488.61 18103209.34 14172225.68 18071695.19 14298418.29 18370379.94\n",
      " 14246057.75 10894444.38 17859496.08 28211850.57 14851856.9  12643999.69\n",
      " 15019726.74 10540320.43 19993746.86 12355189.95 13798599.42 13436900.34\n",
      " 18374884.47 20077758.1  17272777.19 10998582.15 20011314.72 16644524.69\n",
      " 27056906.13 11733467.41 17338149.79 18553889.25 18024982.16 16627550.46\n",
      " 15063039.42 14414009.14 16844286.76  8155556.69 11021034.74 15292558.8\n",
      " 16199380.26 11977295.61 11117210.34 15304715.45 13370843.29 15764242.28\n",
      " 13157843.63 20039972.36 13463598.41 15640247.53 15238924.91 10629439.68\n",
      " 10881740.26 11830407.93 11802607.75 18268614.53 11416150.93 17388078.91\n",
      " 19653824.75 13199064.24 20776573.86 14039761.7  14328357.78 19169755.64\n",
      " 20093597.45 12439753.55 12176836.94 10523116.96 13621323.53 17199945.5\n",
      " 13761086.79]\n"
     ]
    }
   ],
   "source": [
    "print(y_prediction)"
   ]
  },
  {
   "cell_type": "code",
   "execution_count": 582,
   "metadata": {},
   "outputs": [],
   "source": [
    "from sklearn.metrics import r2_score"
   ]
  },
  {
   "cell_type": "code",
   "execution_count": 583,
   "metadata": {},
   "outputs": [
    {
     "data": {
      "text/plain": [
       "0.41116211621322185"
      ]
     },
     "execution_count": 583,
     "metadata": {},
     "output_type": "execute_result"
    }
   ],
   "source": [
    "r2_score(y_test, y_prediction)"
   ]
  },
  {
   "cell_type": "code",
   "execution_count": 584,
   "metadata": {},
   "outputs": [],
   "source": [
    "from sklearn.metrics import mean_squared_error"
   ]
  },
  {
   "cell_type": "code",
   "execution_count": 585,
   "metadata": {},
   "outputs": [
    {
     "data": {
      "text/plain": [
       "35041845930832.367"
      ]
     },
     "execution_count": 585,
     "metadata": {},
     "output_type": "execute_result"
    }
   ],
   "source": [
    "mean_squared_error(y_prediction, y_test)"
   ]
  },
  {
   "cell_type": "code",
   "execution_count": null,
   "metadata": {},
   "outputs": [],
   "source": []
  }
 ],
 "metadata": {
  "kernelspec": {
   "display_name": "Python 3",
   "language": "python",
   "name": "python3"
  },
  "language_info": {
   "codemirror_mode": {
    "name": "ipython",
    "version": 3
   },
   "file_extension": ".py",
   "mimetype": "text/x-python",
   "name": "python",
   "nbconvert_exporter": "python",
   "pygments_lexer": "ipython3",
   "version": "3.8.3"
  }
 },
 "nbformat": 4,
 "nbformat_minor": 4
}
